{
  "nbformat": 4,
  "nbformat_minor": 0,
  "metadata": {
    "colab": {
      "provenance": [],
      "authorship_tag": "ABX9TyNr+ZweOHXMOtet2vbdNhlv",
      "include_colab_link": true
    },
    "kernelspec": {
      "name": "python3",
      "display_name": "Python 3"
    },
    "language_info": {
      "name": "python"
    }
  },
  "cells": [
    {
      "cell_type": "markdown",
      "metadata": {
        "id": "view-in-github",
        "colab_type": "text"
      },
      "source": [
        "<a href=\"https://colab.research.google.com/github/emzu/probabilistic-urban-evolution/blob/main/Footprint_Validation.ipynb\" target=\"_parent\"><img src=\"https://colab.research.google.com/assets/colab-badge.svg\" alt=\"Open In Colab\"/></a>"
      ]
    },
    {
      "cell_type": "markdown",
      "source": [
        "\n",
        "Score accuracy compared to Ground Truth, Google Buildings dataset\n",
        "---\n",
        "\n"
      ],
      "metadata": {
        "id": "pZckeHly45-4"
      }
    },
    {
      "cell_type": "markdown",
      "source": [
        "Load Google Opean Buildings Footprints Data \\\\\n",
        "[Access Data Download](https://colab.research.google.com/github/google-research/google-research/blob/master/building_detection/open_buildings_download_region_polygons.ipynb#scrollTo=qP6ADuzRdZTF) \\\\\n",
        "[Dataset Reference](https://sites.research.google/open-buildings/#dataformat) \\\\\n",
        "[Dataset Technical Report]() \\\\\n",
        "\n",
        "Time-Frame  \n",
        "  v1: inference carried out during April 2021 on imagery covering 19.4M km2 of Africa.\n",
        "\n",
        "  v2: inference carried out during August 2022 on imagery covering 39.1M km2 of Africa, South and South-East Asia.\n",
        "\n",
        "  v3: inference carried out during May 2023 on imagery covering 58M km2 of Africa, South and South-East Asia, Latin America and the Caribbean. See FAQ for comparison of versions."
      ],
      "metadata": {
        "id": "XHwiyrPQuOxX"
      }
    },
    {
      "cell_type": "code",
      "source": [
        "df = pd.read_csv(\"/content/drive/MyDrive/Research/Morphology/Data/Building Footprints/Google Buildings Footprints/tmpv2fvxs5a\", engine=\"c\",\n",
        "    usecols=['latitude', 'longitude', 'area_in_meters', 'confidence'])\n",
        "gdf = gpd.GeoDataFrame(\n",
        "    df, geometry=gpd.points_from_xy(df.longitude, df.latitude), crs = 4326).to_crs(32736)"
      ],
      "metadata": {
        "id": "1cDWcQWRuIhY"
      },
      "execution_count": null,
      "outputs": []
    },
    {
      "cell_type": "markdown",
      "source": [
        "### Load Validation Areas"
      ],
      "metadata": {
        "id": "gl0Jgv7LvPld"
      }
    },
    {
      "cell_type": "code",
      "source": [
        "validation_gdf = gpd.read_file(\"/content/drive/MyDrive/Research/Morphology/Data/Validation Areas/validationAreas (1).shp\").to_crs(32736)"
      ],
      "metadata": {
        "id": "OTocvtiBuGPV"
      },
      "execution_count": null,
      "outputs": []
    },
    {
      "cell_type": "code",
      "source": [
        "#Include Local CLimate Zones\n",
        "data_lcz = pd.read_csv('/content/drive/MyDrive/Research/Morphology/Data/LCZ_dict.csv', header=None).set_index(0)\n",
        "LCZ_dict = data_lcz.to_dict(orient='dict')\n",
        "data_val = pd.read_csv('/content/drive/MyDrive/Research/Morphology/Data/val_areas_lcz.csv').set_index('id')\n",
        "val_lcz_dict = data_val.to_dict(orient=\"dict\")\n",
        "val_lcz_dict=val_lcz_dict['lcz']\n",
        "lcz_rec = []\n",
        "for id in range(28):\n",
        "  lcz_rec.append(LCZ_dict[1][val_lcz_dict[id]])"
      ],
      "metadata": {
        "id": "KlW-Ifnzvi6P"
      },
      "execution_count": null,
      "outputs": []
    },
    {
      "cell_type": "code",
      "source": [
        "id=7\n",
        "model_conf = pixel_df[pixel_df.intersects(validation_gdf.loc[id,:].geometry)]\n",
        "google_conf = gdf[gdf.intersects(validation_gdf.loc[id,:].geometry)]\n",
        "\n",
        "filepath = \"/content/drive/MyDrive/Building Footprints-Validation Areas/Shapefiles/\"\n",
        "code = \"2022_0126\"\n",
        "year = \"2022\"\n",
        "city = \"Kigali\"\n",
        "filename = filepath+city+\"/\"+year+\"/Label_\"+code+\"_20\"+str(id)+\".shp\"\n",
        "if os.path.isfile(filename):\n",
        "  gt = gpd.read_file(filename).to_crs(32736)\n",
        "  gt = gt[gt.geometry.type == 'Polygon'] #Only Keep Valid Polygon Geometry\n",
        "  gt[\"value\"]=1\n",
        "#pixel_df = pixel_df.buffer(3)"
      ],
      "metadata": {
        "id": "phwjW-ZuuC87"
      },
      "execution_count": null,
      "outputs": []
    },
    {
      "cell_type": "code",
      "execution_count": null,
      "metadata": {
        "id": "_YCHblkWyxBz"
      },
      "outputs": [],
      "source": [
        "fig, ax = plt.subplots()\n",
        "google_conf.plot(column = \"confidence\", ax=ax)\n",
        "#model_conf.plot(column = \"value\", ax=ax)\n",
        "gt.plot(ax=ax, color = \"black\")"
      ]
    },
    {
      "cell_type": "markdown",
      "source": [
        "### Calculate Cross Entropy Against Ground Truth"
      ],
      "metadata": {
        "id": "rD5Cq3XtvVYs"
      }
    }
  ]
}